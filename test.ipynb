{
 "cells": [
  {
   "cell_type": "markdown",
   "id": "c2907fddfeac343a",
   "metadata": {
    "collapsed": false
   },
   "source": [
    "# Semantic Search with Semantic Text\n",
    "\n",
    "<a target=\"_blank\" href=\"https://colab.research.google.com/github/elastic/elasticsearch-labs/blob/main/notebooks/search/09-semantic-text.ipynb\"><img src=\"https://colab.research.google.com/assets/colab-badge.svg\" alt=\"Open In Colab\"/></a>\n",
    "\n",
    "Learn how to use the [semantic_text](https://www.elastic.co/guide/en/elasticsearch/reference/master/semantic-text.html) field type to quickly get started with semantic search."
   ]
  },
  {
   "cell_type": "markdown",
   "id": "3db37d2cf8264468",
   "metadata": {
    "collapsed": false
   },
   "source": [
    "## Requirements\n",
    "\n",
    "For this example, you will need:\n",
    "\n",
    "- An Elastic deployment:\n",
    "  - We'll be using [Elastic Cloud](https://www.elastic.co/guide/en/cloud/current/ec-getting-started.html) for this example (available with a [free trial](https://cloud.elastic.co/registration?onboarding_token=vectorsearch&utm_source=github&utm_content=elasticsearch-labs-notebook))\n",
    "\n",
    "- Elasticsearch 8.15 or above, or [Elasticsearch serverless](https://www.elastic.co/elasticsearch/serverless)"
   ]
  },
  {
   "cell_type": "markdown",
   "id": "7fe1ed0703a8d1d3",
   "metadata": {
    "collapsed": false
   },
   "source": [
    "## Create Elastic Cloud deployment\n",
    "\n",
    "If you don't have an Elastic Cloud deployment, sign up [here](https://cloud.elastic.co/registration?onboarding_token=vectorsearch&utm_source=github&utm_content=elasticsearch-labs-notebook) for a free trial."
   ]
  },
  {
   "cell_type": "markdown",
   "id": "f9c8bd62c8241f90",
   "metadata": {
    "collapsed": false
   },
   "source": [
    "## Install packages and connect with Elasticsearch Client\n",
    "\n",
    "To get started, we'll need to connect to our Elastic deployment using the Python client (version 8.15.0 or above).\n",
    "Because we're using an Elastic Cloud deployment, we'll use the **Cloud ID** to identify our deployment.\n",
    "\n",
    "First we need to `pip` install the following packages:\n",
    "\n",
    "- `elasticsearch`"
   ]
  },
  {
   "cell_type": "code",
   "execution_count": 18,
   "id": "13fdf7656ced2da3",
   "metadata": {
    "collapsed": false
   },
   "outputs": [
    {
     "name": "stdout",
     "output_type": "stream",
     "text": [
      "Requirement already satisfied: elasticsearch in ./.venv/lib/python3.11/site-packages (8.14.0)\n",
      "Requirement already satisfied: elastic-transport<9,>=8.13 in ./.venv/lib/python3.11/site-packages (from elasticsearch) (8.13.1)\n",
      "Requirement already satisfied: urllib3<3,>=1.26.2 in ./.venv/lib/python3.11/site-packages (from elastic-transport<9,>=8.13->elasticsearch) (2.2.2)\n",
      "Requirement already satisfied: certifi in ./.venv/lib/python3.11/site-packages (from elastic-transport<9,>=8.13->elasticsearch) (2024.7.4)\n",
      "\n",
      "\u001b[1m[\u001b[0m\u001b[34;49mnotice\u001b[0m\u001b[1;39;49m]\u001b[0m\u001b[39;49m A new release of pip is available: \u001b[0m\u001b[31;49m24.1.2\u001b[0m\u001b[39;49m -> \u001b[0m\u001b[32;49m24.2\u001b[0m\n",
      "\u001b[1m[\u001b[0m\u001b[34;49mnotice\u001b[0m\u001b[1;39;49m]\u001b[0m\u001b[39;49m To update, run: \u001b[0m\u001b[32;49mpip install --upgrade pip\u001b[0m\n",
      "Requirement already satisfied: python-decouple in ./.venv/lib/python3.11/site-packages (3.8)\n",
      "\n",
      "\u001b[1m[\u001b[0m\u001b[34;49mnotice\u001b[0m\u001b[1;39;49m]\u001b[0m\u001b[39;49m A new release of pip is available: \u001b[0m\u001b[31;49m24.1.2\u001b[0m\u001b[39;49m -> \u001b[0m\u001b[32;49m24.2\u001b[0m\n",
      "\u001b[1m[\u001b[0m\u001b[34;49mnotice\u001b[0m\u001b[1;39;49m]\u001b[0m\u001b[39;49m To update, run: \u001b[0m\u001b[32;49mpip install --upgrade pip\u001b[0m\n",
      "Requirement already satisfied: icecream in ./.venv/lib/python3.11/site-packages (2.1.3)\n",
      "Requirement already satisfied: colorama>=0.3.9 in ./.venv/lib/python3.11/site-packages (from icecream) (0.4.6)\n",
      "Requirement already satisfied: pygments>=2.2.0 in ./.venv/lib/python3.11/site-packages (from icecream) (2.18.0)\n",
      "Requirement already satisfied: executing>=0.3.1 in ./.venv/lib/python3.11/site-packages (from icecream) (2.0.1)\n",
      "Requirement already satisfied: asttokens>=2.0.1 in ./.venv/lib/python3.11/site-packages (from icecream) (2.4.1)\n",
      "Requirement already satisfied: six>=1.12.0 in ./.venv/lib/python3.11/site-packages (from asttokens>=2.0.1->icecream) (1.16.0)\n",
      "\n",
      "\u001b[1m[\u001b[0m\u001b[34;49mnotice\u001b[0m\u001b[1;39;49m]\u001b[0m\u001b[39;49m A new release of pip is available: \u001b[0m\u001b[31;49m24.1.2\u001b[0m\u001b[39;49m -> \u001b[0m\u001b[32;49m24.2\u001b[0m\n",
      "\u001b[1m[\u001b[0m\u001b[34;49mnotice\u001b[0m\u001b[1;39;49m]\u001b[0m\u001b[39;49m To update, run: \u001b[0m\u001b[32;49mpip install --upgrade pip\u001b[0m\n"
     ]
    }
   ],
   "source": [
    "!pip install elasticsearch\n",
    "!pip install python-decouple\n",
    "!pip install icecream"
   ]
  },
  {
   "cell_type": "markdown",
   "id": "9d54b112361d2f3d",
   "metadata": {
    "collapsed": false
   },
   "source": [
    "Next, we need to import the modules we need. \n",
    "\n",
    "🔐 NOTE: getpass enables us to securely prompt the user for credentials without echoing them to the terminal, or storing it in memory."
   ]
  },
  {
   "cell_type": "code",
   "execution_count": 22,
   "id": "9a60627704e77ff6",
   "metadata": {
    "collapsed": false
   },
   "outputs": [],
   "source": [
    "from elasticsearch import Elasticsearch, exceptions\n",
    "from urllib.request import urlopen\n",
    "from getpass import getpass\n",
    "import json\n",
    "import time\n",
    "from icecream import ic"
   ]
  },
  {
   "cell_type": "markdown",
   "id": "eb9498124146d8bb",
   "metadata": {
    "collapsed": false
   },
   "source": [
    "Now we can instantiate the Python Elasticsearch client.\n",
    "\n",
    "First we prompt the user for their password and Cloud ID.\n",
    "Then we create a `client` object that instantiates an instance of the `Elasticsearch` class."
   ]
  },
  {
   "cell_type": "code",
   "execution_count": 6,
   "id": "6e14437dcce0f235",
   "metadata": {
    "collapsed": false
   },
   "outputs": [],
   "source": [
    "ELASTIC_CLOUD_ID = \"AI_Demo_815:dXMtd2VzdDIuZ2NwLmVsYXN0aWMtY2xvdWQuY29tOjQ0MyQ0YmUyZmQ1YjAxNzI0OTQ3ODE1YTg5OTJkOWVhNjU3YSQwMWU5NzFjMDdlYTk0YWMwOTg2NTgyYzVjYzk0M2VmYg==\"\n",
    "\n",
    "ELASTIC_API_KEY = \"QWVyeUU1RUJEUGgxTGxoZEVnZWk6TXNYck1heDhTUHVfTE54bTVXT2FBQQ==\"\n",
    "\n",
    "# Create the client instance\n",
    "elastic_client = Elasticsearch(\n",
    "    # For local development\n",
    "    # hosts=[\"http://localhost:9200\"]\n",
    "    cloud_id=ELASTIC_CLOUD_ID,\n",
    "    api_key=ELASTIC_API_KEY,\n",
    ")"
   ]
  },
  {
   "cell_type": "markdown",
   "id": "cbbdaf9118a97732",
   "metadata": {
    "collapsed": false
   },
   "source": [
    "### Test the Client\n",
    "Before you continue, confirm that the client has connected with this test."
   ]
  },
  {
   "cell_type": "code",
   "execution_count": 7,
   "id": "4cb0685fae12e034",
   "metadata": {
    "collapsed": false
   },
   "outputs": [
    {
     "name": "stdout",
     "output_type": "stream",
     "text": [
      "{'name': 'instance-0000000000', 'cluster_name': '4be2fd5b01724947815a8992d9ea657a', 'cluster_uuid': 'Vt9__adQSzWxTkJuHjeMOA', 'version': {'number': '8.15.0', 'build_flavor': 'default', 'build_type': 'docker', 'build_hash': 'e84a0c8e4546f99e05cf8bfad923b0f2122afdf2', 'build_date': '2024-08-01T13:35:24.955648203Z', 'build_snapshot': False, 'lucene_version': '9.11.1', 'minimum_wire_compatibility_version': '7.17.0', 'minimum_index_compatibility_version': '7.0.0'}, 'tagline': 'You Know, for Search'}\n"
     ]
    }
   ],
   "source": [
    "print(elastic_client.info())"
   ]
  },
  {
   "cell_type": "markdown",
   "id": "59e2223bf2c4331",
   "metadata": {
    "collapsed": false
   },
   "source": [
    "Refer to [the documentation](https://www.elastic.co/guide/en/elasticsearch/client/python-api/current/connecting.html#connect-self-managed-new) to learn how to connect to a self-managed deployment.\n",
    "\n",
    "Read [this page](https://www.elastic.co/guide/en/elasticsearch/client/python-api/current/connecting.html#connect-self-managed-new) to learn how to connect using API keys."
   ]
  },
  {
   "cell_type": "code",
   "execution_count": 14,
   "id": "29557a84",
   "metadata": {},
   "outputs": [
    {
     "data": {
      "text/plain": [
       "'AI_Demo_815:dXMtd2VzdDIuZ2NwLmVsYXN0aWMtY2xvdWQuY29tOjQ0MyQ0YmUyZmQ1YjAxNzI0OTQ3ODE1YTg5OTJkOWVhNjU3YSQwMWU5NzFjMDdlYTk0YWMwOTg2NTgyYzVjYzk0M2VmYg=='"
      ]
     },
     "execution_count": 14,
     "metadata": {},
     "output_type": "execute_result"
    }
   ],
   "source": [
    "from decouple import config\n",
    "\n",
    "elastic_cloud_id = config('ELASTIC_CLOUD_ID', default='none')\n",
    "elastic_api_key = config('ELASTIC_API_KEY', default='none')\n",
    "elastic_index_name = config('ELASTIC_INDEX_NAME', default='none')\n",
    "raw_data = config('RAW_DATA', default='none')\n",
    "elastic_synonym_fn = config('ELASTIC_SYNONYM_FILE', default='none')\n",
    "elastic_synonym_id = config('ELASTIC_SYNONYM_ID', default='none')\n",
    "elastic_pipeline_name = config('ELASTIC_PIPELINE_NAME', default='none')\n",
    "elastic_sparse_model_name = config('ELASTIC_SPARSE_MODEL_NAME', default='none')\n",
    "elastic_sparse_field_name = config('ELASTIC_SPARSE_FIELD_NAME', default='none')\n",
    "elastic_sparse_field_name = config('ELASTIC_DENSE_FIELD_NAME', default='none')\n",
    "elastic_dense_field_name = config('ELASTIC_DENSE_FIELD_NAME', default='none')\n",
    "elastic_dense_field_dims = config('ELASTIC_DENSE_FIELD_DIMS', default=0, cast=int)\n",
    "elastic_dense_field_model_name = config('ELASTIC_DENSE_FIELD_MODEL_NAME', default='none')\n",
    "elastic_sparse_inference_endpoint_name = config('ELASTIC_INFERENCE_ENDPOINT_NAME', default='none')"
   ]
  },
  {
   "cell_type": "markdown",
   "id": "22fa643780acd44a",
   "metadata": {
    "collapsed": false
   },
   "source": [
    "## Create the Inference Endpoint\n",
    "\n",
    "Let's create the inference endpoint by using the [Create inference API](https://www.elastic.co/guide/en/elasticsearch/reference/current/put-inference-api.html).\n",
    "\n",
    "For this example we'll use the [ELSER service](https://www.elastic.co/guide/en/machine-learning/current/ml-nlp-elser.html), but the inference API also supports [many other inference services](https://www.elastic.co/guide/en/elasticsearch/reference/current/put-inference-api.html#put-inference-api-desc)."
   ]
  },
  {
   "cell_type": "code",
   "execution_count": 23,
   "id": "8ee2188ea71324f5",
   "metadata": {
    "collapsed": false
   },
   "outputs": [
    {
     "name": "stderr",
     "output_type": "stream",
     "text": [
      "ic| \"Creating inference endpoints\": 'Creating inference endpoints'\n",
      "    inference_endpoint_name: 'acme_inference'\n",
      "    client: <Elasticsearch(['https://4be2fd5b01724947815a8992d9ea657a.us-west2.gcp.elastic-cloud.com:443'])>\n",
      "ic| \"Deleted inference endpoint {}\".format(inference_endpoint_name): 'Deleted inference endpoint acme_inference'\n",
      "ic| \"Created inference endpoint {}\".format(inference_endpoint_name): 'Created inference endpoint acme_inference'\n",
      "ic| dict(inference_endpoint_info): {'endpoints': [{'inference_id': 'acme_inference',\n",
      "                                                   'service': 'elser',\n",
      "                                                   'service_settings': {'model_id': '.elser_model_2_linux-x86_64',\n",
      "                                                                        'num_allocations': 1,\n",
      "                                                                        'num_threads': 1},\n",
      "                                                   'task_settings': {},\n",
      "                                                   'task_type': 'sparse_embedding'}]}\n",
      "ic| 'ELSER Model has been successfully deployed.'\n"
     ]
    }
   ],
   "source": [
    "def create_inference_endpoint(inference_endpoint_name=elastic_sparse_inference_endpoint_name, \n",
    "                              client=elastic_client):\n",
    "    \"\"\"\n",
    "    Create an inference endpoint in Elasticsearch.\n",
    "\n",
    "    This code is lifted almost directly from Elasticsearch Labs: \n",
    "        https://github.com/elastic/elasticsearch-labs/blob/main/notebooks/search/09-semantic-text.ipynb\n",
    "\n",
    "    Args:\n",
    "        inference_endpoint_name (str): The name of the inference endpoint to create.\n",
    "        client (Elasticsearch): The Elasticsearch client.\n",
    "    \n",
    "    Raises:\n",
    "        exceptions.BadRequestError: If the inference endpoint already exists.\n",
    "\n",
    "    Returns:\n",
    "        dict: The information about the created inference endpoint.\n",
    "\n",
    "    \"\"\"\n",
    "    \n",
    "    ic(\"Creating inference endpoints\", inference_endpoint_name, client)\n",
    "\n",
    "    try:\n",
    "        client.inference.delete_model(inference_id=inference_endpoint_name)\n",
    "        ic(\"Deleted inference endpoint {}\".format(inference_endpoint_name))\n",
    "    except exceptions.NotFoundError:\n",
    "        # Inference endpoint does not exist\n",
    "        pass\n",
    "\n",
    "    try:\n",
    "        client.options(\n",
    "            request_timeout=60, max_retries=3, retry_on_timeout=True\n",
    "        ).inference.put_model(\n",
    "            task_type=\"sparse_embedding\",\n",
    "            inference_id=inference_endpoint_name,\n",
    "            body={\n",
    "                \"service\": \"elser\",\n",
    "                \"service_settings\": {\"num_allocations\": 1, \"num_threads\": 1},\n",
    "            },\n",
    "        )\n",
    "        \n",
    "        ic(\"Created inference endpoint {}\".format(inference_endpoint_name))\n",
    "\n",
    "    except exceptions.BadRequestError as e:\n",
    "        if e.error == \"resource_already_exists_exception\":\n",
    "            ic(\"Inference endpoint already exists {}\".format(inference_endpoint_name))\n",
    "        else:\n",
    "            raise e\n",
    "        \n",
    "    inference_endpoint_info = client.inference.get_model(\n",
    "        inference_id=inference_endpoint_name,\n",
    "    )\n",
    "\n",
    "    ic(dict(inference_endpoint_info))\n",
    "    \n",
    "    model_id = inference_endpoint_info[\"endpoints\"][0][\"service_settings\"][\"model_id\"]\n",
    "\n",
    "    # deploy the ELSER model if it is not already deployed\n",
    "    while True:\n",
    "        status = client.ml.get_trained_models_stats(\n",
    "            model_id=model_id,\n",
    "        )\n",
    "\n",
    "        deployment_stats = status[\"trained_model_stats\"][0].get(\"deployment_stats\")\n",
    "        if deployment_stats is None:\n",
    "            ic(\"ELSER Model is currently being deployed.\")\n",
    "            time.sleep(5)\n",
    "            continue\n",
    "\n",
    "        nodes = deployment_stats.get(\"nodes\")\n",
    "        if nodes is not None and len(nodes) > 0:\n",
    "            ic(\"ELSER Model has been successfully deployed.\")\n",
    "            break\n",
    "        else:\n",
    "            ic(\"ELSER Model is currently being deployed.\")\n",
    "        time.sleep(5)\n",
    "\n",
    "create_inference_endpoint(inference_endpoint_name=elastic_sparse_inference_endpoint_name,\n",
    "                            client=elastic_client)"
   ]
  },
  {
   "cell_type": "markdown",
   "id": "818f7a72a83b5776",
   "metadata": {
    "collapsed": false
   },
   "source": [
    "## Create the Index\n",
    "\n",
    "Now we need to create an index with a `semantic_text` field. Let's create one that enables us to perform semantic search on movie plots."
   ]
  },
  {
   "cell_type": "code",
   "execution_count": 24,
   "id": "ace87760606f67c6",
   "metadata": {
    "collapsed": false
   },
   "outputs": [
    {
     "name": "stderr",
     "output_type": "stream",
     "text": [
      "ic| \"Deleted index {}\".format(index_name): 'Deleted index acme'\n",
      "ic| \"Created index {}\".format(index_name): 'Created index acme'\n"
     ]
    }
   ],
   "source": [
    "def create_index_with_fields(client=elastic_client, \n",
    "                             pipeline_name= elastic_pipeline_name,\n",
    "                             inference_endpoint_name = elastic_sparse_inference_endpoint_name,\n",
    "                             index_name=elastic_index_name,\n",
    "                             model_name=elastic_sparse_model_name,\n",
    "                             input_field_name=elastic_sparse_field_name,\n",
    "                             sparse_field_name=elastic_sparse_field_name\n",
    "                             dense_field_name=elastic_dense_field_name,\n",
    "                             dense_field_dims=elastic_dense_field_dims):\n",
    "    \"\"\"\n",
    "    Create an Elasticsearch index with custom analysis settings and mappings.\n",
    "\n",
    "    Args:\n",
    "        client (Elasticsearch): The Elasticsearch client.\n",
    "        pipeline_name (str): The name of the pipeline to create.\n",
    "        inference_endoint_name (str): The name of the inference endpoint to use.\n",
    "        index_name (str): The name of the index to create.\n",
    "        model_name (str): The name of the model to use for embeddings.\n",
    "        input_field_name (str): The name of the input field.\n",
    "        sparse_field_name (str): The name of the output field.\n",
    "        dense_field_name (str): The name of the dense field.\n",
    "        dense_field_dims (int): The number of dimensions for the dense field.\n",
    "        \n",
    "    \"\"\"\n",
    "\n",
    "    settings = {\n",
    "            \"analyzer\": {\n",
    "                \"autocomplete\": {\n",
    "                    \"type\": \"custom\",\n",
    "                    \"tokenizer\": \"standard\",\n",
    "                    \"filter\": [\n",
    "                        \"lowercase\",\n",
    "                        \"autocomplete_filter\",\n",
    "                    ]\n",
    "                },\n",
    "                \"acme_synonym_analyzer\": {\n",
    "                    \"tokenizer\": \"standard\",\n",
    "                    \"filter\": [\n",
    "                        \"lowercase\",\n",
    "                        \"acme_synonym_filter\",\n",
    "                    ]\n",
    "                }\n",
    "            },\n",
    "        }\n",
    "    }\n",
    "\n",
    "    mappings = {\n",
    "        \"properties\": {\n",
    "            \"text\": {\n",
    "                \"type\": \"text\", \n",
    "            },\n",
    "            \"text_sparse_embedding\": {\n",
    "                \"type\": \"semantic_text\",\n",
    "                \"inference_id\": \"my-elser-endpoint\"\n",
    "\n",
    "        }\n",
    "    }\n",
    " \n",
    "    if client.indices.exists(index=index_name):\n",
    "        client.indices.delete(index=index_name)\n",
    "        ic(\"Deleted index {}\".format(index_name))\n",
    "\n",
    "    client.indices.create(index=index_name, mappings=mappings, settings=settings)\n",
    "    ic(\"Created index {}\".format(index_name))\n",
    "\n",
    "create_index_with_fields(client=elastic_client, \n",
    "                            index_name=elastic_index_name,\n",
    "                            pipeline_name=elastic_pipeline_name,\n",
    "                            sparse_field_name=elastic_sparse_field_name)"
   ]
  },
  {
   "cell_type": "markdown",
   "id": "abc3ee7a1fddfa9b",
   "metadata": {
    "collapsed": false
   },
   "source": [
    "Notice how we configured the mappings. We defined `plot_semantic` as a `semantic_text` field.\n",
    "The `inference_id` parameter defines the inference endpoint that is used to generate the embeddings for the field.\n",
    "Then we configured the `plot` field to [copy its value](https://www.elastic.co/guide/en/elasticsearch/reference/current/copy-to.html) to the `plot_semantic` field."
   ]
  },
  {
   "cell_type": "markdown",
   "id": "2b5a46b60660a489",
   "metadata": {
    "collapsed": false
   },
   "source": [
    "## Populate the Index\n",
    "\n",
    "Let's populate the index with our example dataset of 12 movies."
   ]
  },
  {
   "cell_type": "code",
   "execution_count": 8,
   "id": "24f0133923553d28",
   "metadata": {
    "collapsed": false
   },
   "outputs": [
    {
     "data": {
      "text/plain": [
       "ObjectApiResponse({'errors': False, 'took': 954232972, 'items': [{'index': {'_index': 'semantic-text-movies', '_id': '_eonFJEBDPh1LlhdYRJe', '_version': 1, 'result': 'created', 'forced_refresh': True, '_shards': {'total': 2, 'successful': 2, 'failed': 0}, '_seq_no': 0, '_primary_term': 1, 'status': 201}}, {'index': {'_index': 'semantic-text-movies', '_id': '_uonFJEBDPh1LlhdYRJe', '_version': 1, 'result': 'created', 'forced_refresh': True, '_shards': {'total': 2, 'successful': 2, 'failed': 0}, '_seq_no': 1, '_primary_term': 1, 'status': 201}}, {'index': {'_index': 'semantic-text-movies', '_id': '_-onFJEBDPh1LlhdYRJe', '_version': 1, 'result': 'created', 'forced_refresh': True, '_shards': {'total': 2, 'successful': 2, 'failed': 0}, '_seq_no': 2, '_primary_term': 1, 'status': 201}}, {'index': {'_index': 'semantic-text-movies', '_id': 'AOonFJEBDPh1LlhdYRNe', '_version': 1, 'result': 'created', 'forced_refresh': True, '_shards': {'total': 2, 'successful': 2, 'failed': 0}, '_seq_no': 3, '_primary_term': 1, 'status': 201}}, {'index': {'_index': 'semantic-text-movies', '_id': 'AeonFJEBDPh1LlhdYRNe', '_version': 1, 'result': 'created', 'forced_refresh': True, '_shards': {'total': 2, 'successful': 2, 'failed': 0}, '_seq_no': 4, '_primary_term': 1, 'status': 201}}, {'index': {'_index': 'semantic-text-movies', '_id': 'AuonFJEBDPh1LlhdYRNe', '_version': 1, 'result': 'created', 'forced_refresh': True, '_shards': {'total': 2, 'successful': 2, 'failed': 0}, '_seq_no': 5, '_primary_term': 1, 'status': 201}}, {'index': {'_index': 'semantic-text-movies', '_id': 'A-onFJEBDPh1LlhdYRNe', '_version': 1, 'result': 'created', 'forced_refresh': True, '_shards': {'total': 2, 'successful': 2, 'failed': 0}, '_seq_no': 6, '_primary_term': 1, 'status': 201}}, {'index': {'_index': 'semantic-text-movies', '_id': 'BOonFJEBDPh1LlhdYRNe', '_version': 1, 'result': 'created', 'forced_refresh': True, '_shards': {'total': 2, 'successful': 2, 'failed': 0}, '_seq_no': 7, '_primary_term': 1, 'status': 201}}, {'index': {'_index': 'semantic-text-movies', '_id': 'BeonFJEBDPh1LlhdYRNe', '_version': 1, 'result': 'created', 'forced_refresh': True, '_shards': {'total': 2, 'successful': 2, 'failed': 0}, '_seq_no': 8, '_primary_term': 1, 'status': 201}}, {'index': {'_index': 'semantic-text-movies', '_id': 'BuonFJEBDPh1LlhdYRNe', '_version': 1, 'result': 'created', 'forced_refresh': True, '_shards': {'total': 2, 'successful': 2, 'failed': 0}, '_seq_no': 9, '_primary_term': 1, 'status': 201}}, {'index': {'_index': 'semantic-text-movies', '_id': 'B-onFJEBDPh1LlhdYRNe', '_version': 1, 'result': 'created', 'forced_refresh': True, '_shards': {'total': 2, 'successful': 2, 'failed': 0}, '_seq_no': 10, '_primary_term': 1, 'status': 201}}, {'index': {'_index': 'semantic-text-movies', '_id': 'COonFJEBDPh1LlhdYRNe', '_version': 1, 'result': 'created', 'forced_refresh': True, '_shards': {'total': 2, 'successful': 2, 'failed': 0}, '_seq_no': 11, '_primary_term': 1, 'status': 201}}]})"
      ]
     },
     "execution_count": 8,
     "metadata": {},
     "output_type": "execute_result"
    }
   ],
   "source": [
    "url = \"https://raw.githubusercontent.com/elastic/elasticsearch-labs/main/notebooks/search/movies.json\"\n",
    "response = urlopen(url)\n",
    "movies = json.loads(response.read())\n",
    "\n",
    "operations = []\n",
    "for movie in movies:\n",
    "    operations.append({\"index\": {\"_index\": \"semantic-text-movies\"}})\n",
    "    operations.append(movie)\n",
    "client.bulk(index=\"semantic-text-movies\", operations=operations, refresh=True)"
   ]
  },
  {
   "cell_type": "markdown",
   "id": "6fff5932fcbac1b0",
   "metadata": {
    "collapsed": false
   },
   "source": [
    "## Semantic Search\n",
    "\n",
    "Now that our index is populated, we can query it using semantic search.\n",
    "\n",
    "### Aside: Pretty printing Elasticsearch search results\n",
    "\n",
    "Your `search` API calls will return hard-to-read nested JSON.\n",
    "We'll create a little function called `pretty_search_response` to return nice, human-readable outputs from our examples."
   ]
  },
  {
   "cell_type": "code",
   "execution_count": 9,
   "id": "ad417b4b3f50c889",
   "metadata": {
    "collapsed": false
   },
   "outputs": [],
   "source": [
    "def pretty_search_response(response):\n",
    "    if len(response[\"hits\"][\"hits\"]) == 0:\n",
    "        print(\"Your search returned no results.\")\n",
    "    else:\n",
    "        for hit in response[\"hits\"][\"hits\"]:\n",
    "            id = hit[\"_id\"]\n",
    "            score = hit[\"_score\"]\n",
    "            title = hit[\"_source\"][\"title\"]\n",
    "            runtime = hit[\"_source\"][\"runtime\"]\n",
    "            plot = hit[\"_source\"][\"plot\"]\n",
    "            keyScene = hit[\"_source\"][\"keyScene\"]\n",
    "            genre = hit[\"_source\"][\"genre\"]\n",
    "            released = hit[\"_source\"][\"released\"]\n",
    "\n",
    "            pretty_output = f\"\\nID: {id}\\nScore: {score}\\nTitle: {title}\\nRuntime: {runtime}\\nPlot: {plot}\\nKey Scene: {keyScene}\\nGenre: {genre}\\nReleased: {released}\"\n",
    "\n",
    "            print(pretty_output)"
   ]
  },
  {
   "cell_type": "markdown",
   "id": "22c4d4d395adb472",
   "metadata": {
    "collapsed": false
   },
   "source": [
    "### Semantic Search with the `semantic` Query\n",
    "\n",
    "We can use the [`semantic` query](https://www.elastic.co/guide/en/elasticsearch/reference/master/query-dsl-semantic-query.html) to quickly & easily query the `semantic_text` field in our index.\n",
    "Under the hood, an embedding is automatically generated for our query text using the `semantic_text` field's inference endpoint."
   ]
  },
  {
   "cell_type": "code",
   "execution_count": 10,
   "id": "1a8520ffc8a3efb3",
   "metadata": {
    "collapsed": false
   },
   "outputs": [
    {
     "name": "stdout",
     "output_type": "stream",
     "text": [
      "\n",
      "ID: BuonFJEBDPh1LlhdYRNe\n",
      "Score: 16.526878\n",
      "Title: The Godfather\n",
      "Runtime: 175\n",
      "Plot: An organized crime dynasty's aging patriarch transfers control of his clandestine empire to his reluctant son.\n",
      "Key Scene: James Caan's character Sonny Corleone is shot to death at a toll booth by a number of machine gun toting enemies.\n",
      "Genre: Crime, Drama\n",
      "Released: 1972\n",
      "\n",
      "ID: B-onFJEBDPh1LlhdYRNe\n",
      "Score: 10.201027\n",
      "Title: The Departed\n",
      "Runtime: 151\n",
      "Plot: An undercover cop and a mole in the police attempt to identify each other while infiltrating an Irish gang in South Boston.\n",
      "Key Scene: Leonardo DiCaprio's character Billy Costigan is shot to death by Matt Damon's character Colin Sullivan.\n",
      "Genre: Crime, Drama, Thriller\n",
      "Released: 2006\n",
      "\n",
      "ID: _eonFJEBDPh1LlhdYRJe\n",
      "Score: 9.530054\n",
      "Title: Pulp Fiction\n",
      "Runtime: 154\n",
      "Plot: The lives of two mob hitmen, a boxer, a gangster and his wife, and a pair of diner bandits intertwine in four tales of violence and redemption.\n",
      "Key Scene: John Travolta is forced to inject adrenaline directly into Uma Thurman's heart after she overdoses on heroin.\n",
      "Genre: Crime, Drama\n",
      "Released: 1994\n",
      "\n",
      "ID: A-onFJEBDPh1LlhdYRNe\n",
      "Score: 9.212539\n",
      "Title: Goodfellas\n",
      "Runtime: 146\n",
      "Plot: The story of Henry Hill and his life in the mob, covering his relationship with his wife Karen Hill and his mob partners Jimmy Conway and Tommy DeVito in the Italian-American crime syndicate.\n",
      "Key Scene: Joe Pesci's character Tommy DeVito shoots young Spider in the foot for not getting him a drink.\n",
      "Genre: Biography, Crime, Drama\n",
      "Released: 1990\n",
      "\n",
      "ID: BeonFJEBDPh1LlhdYRNe\n",
      "Score: 8.515005\n",
      "Title: The Silence of the Lambs\n",
      "Runtime: 118\n",
      "Plot: A young F.B.I. cadet must receive the help of an incarcerated and manipulative cannibal killer to help catch another serial killer, a madman who skins his victims.\n",
      "Key Scene: Hannibal Lecter explains to Clarice Starling that he ate a census taker's liver with some fava beans and a nice Chianti.\n",
      "Genre: Crime, Drama, Thriller\n",
      "Released: 1991\n",
      "\n",
      "ID: BOonFJEBDPh1LlhdYRNe\n",
      "Score: 7.1371274\n",
      "Title: Se7en\n",
      "Runtime: 127\n",
      "Plot: Two detectives, a rookie and a veteran, hunt a serial killer who uses the seven deadly sins as his motives.\n",
      "Key Scene: Brad Pitt's character David Mills shoots John Doe after he reveals that he murdered Mills' wife.\n",
      "Genre: Crime, Drama, Mystery, Thriller\n",
      "Released: 1995\n",
      "\n",
      "ID: COonFJEBDPh1LlhdYRNe\n",
      "Score: 6.947451\n",
      "Title: The Usual Suspects\n",
      "Runtime: 106\n",
      "Plot: A sole survivor tells of the twisty events leading up to a horrific gun battle on a boat, which began when five criminals met at a seemingly random police lineup.\n",
      "Key Scene: Kevin Spacey's character Verbal Kint is revealed to be the mastermind behind the crime, when his limp disappears as he walks away from the police station.\n",
      "Genre: Crime, Mystery, Thriller\n",
      "Released: 1995\n",
      "\n",
      "ID: AuonFJEBDPh1LlhdYRNe\n",
      "Score: 6.5070043\n",
      "Title: The Shawshank Redemption\n",
      "Runtime: 142\n",
      "Plot: Two imprisoned men bond over a number of years, finding solace and eventual redemption through acts of common decency.\n",
      "Key Scene: Andy Dufresne escapes from Shawshank prison by crawling through a sewer pipe.\n",
      "Genre: Drama\n",
      "Released: 1994\n",
      "\n",
      "ID: AOonFJEBDPh1LlhdYRNe\n",
      "Score: 6.093292\n",
      "Title: Inception\n",
      "Runtime: 148\n",
      "Plot: A thief who steals corporate secrets through the use of dream-sharing technology is given the inverse task of planting an idea into thed of a C.E.O.\n",
      "Key Scene: Leonardo DiCaprio explains the concept of inception to Ellen Page by using a child's spinning top.\n",
      "Genre: Action, Adventure, Sci-Fi, Thriller\n",
      "Released: 2010\n",
      "\n",
      "ID: AeonFJEBDPh1LlhdYRNe\n",
      "Score: 5.2886667\n",
      "Title: The Matrix\n",
      "Runtime: 136\n",
      "Plot: A computer hacker learns from mysterious rebels about the true nature of his reality and his role in the war against its controllers.\n",
      "Key Scene: Red pill or blue pill? Morpheus offers Neo a choice between the red pill, which will allow him to learn the truth about the Matrix, or the blue pill, which will return him to his former life.\n",
      "Genre: Action, Sci-Fi\n",
      "Released: 1999\n"
     ]
    }
   ],
   "source": [
    "response = client.search(\n",
    "    index=\"semantic-text-movies\",\n",
    "    query={\"semantic\": {\"field\": \"plot_semantic\", \"query\": \"organized crime movies\"}},\n",
    ")\n",
    "\n",
    "pretty_search_response(response)"
   ]
  },
  {
   "cell_type": "markdown",
   "id": "148fda24a3964aa9",
   "metadata": {
    "collapsed": false
   },
   "source": [
    "These results demonstrate the power of semantic search.\n",
    "Our top results are all movies involving organized crime, even if the exact term \"organized crime\" doesn't appear in the plot description.\n",
    "This works because the ELSER model understands the semantic similarity between terms like \"organized crime\" and \"mob\".\n",
    "\n",
    "However, these results also show the weaknesses of semantic search.\n",
    "Because semantic search is based on vector similarity, there is a long tail of results that are weakly related to our query vector.\n",
    "That's why movies like _The Matrix_ are returned towards the tail end of our search results."
   ]
  },
  {
   "cell_type": "markdown",
   "id": "7c9bab225a745746",
   "metadata": {
    "collapsed": false
   },
   "source": [
    "### Hybrid Search with the `semantic` Query\n",
    "\n",
    "We can address some of the issues with pure semantic search by combining it with lexical search techniques.\n",
    "Here, we use a [boolean query](https://www.elastic.co/guide/en/elasticsearch/reference/current/query-dsl-bool-query.html) to require that all matches contain at least term from the query text, in either the `plot` or `genre` fields."
   ]
  },
  {
   "cell_type": "code",
   "execution_count": 11,
   "id": "4f72f7906b918dc1",
   "metadata": {
    "collapsed": false
   },
   "outputs": [
    {
     "name": "stdout",
     "output_type": "stream",
     "text": [
      "\n",
      "ID: BuonFJEBDPh1LlhdYRNe\n",
      "Score: 56.279396\n",
      "Title: The Godfather\n",
      "Runtime: 175\n",
      "Plot: An organized crime dynasty's aging patriarch transfers control of his clandestine empire to his reluctant son.\n",
      "Key Scene: James Caan's character Sonny Corleone is shot to death at a toll booth by a number of machine gun toting enemies.\n",
      "Genre: Crime, Drama\n",
      "Released: 1972\n",
      "\n",
      "ID: B-onFJEBDPh1LlhdYRNe\n",
      "Score: 31.22543\n",
      "Title: The Departed\n",
      "Runtime: 151\n",
      "Plot: An undercover cop and a mole in the police attempt to identify each other while infiltrating an Irish gang in South Boston.\n",
      "Key Scene: Leonardo DiCaprio's character Billy Costigan is shot to death by Matt Damon's character Colin Sullivan.\n",
      "Genre: Crime, Drama, Thriller\n",
      "Released: 2006\n",
      "\n",
      "ID: A-onFJEBDPh1LlhdYRNe\n",
      "Score: 29.793152\n",
      "Title: Goodfellas\n",
      "Runtime: 146\n",
      "Plot: The story of Henry Hill and his life in the mob, covering his relationship with his wife Karen Hill and his mob partners Jimmy Conway and Tommy DeVito in the Italian-American crime syndicate.\n",
      "Key Scene: Joe Pesci's character Tommy DeVito shoots young Spider in the foot for not getting him a drink.\n",
      "Genre: Biography, Crime, Drama\n",
      "Released: 1990\n",
      "\n",
      "ID: _eonFJEBDPh1LlhdYRJe\n",
      "Score: 29.314661\n",
      "Title: Pulp Fiction\n",
      "Runtime: 154\n",
      "Plot: The lives of two mob hitmen, a boxer, a gangster and his wife, and a pair of diner bandits intertwine in four tales of violence and redemption.\n",
      "Key Scene: John Travolta is forced to inject adrenaline directly into Uma Thurman's heart after she overdoses on heroin.\n",
      "Genre: Crime, Drama\n",
      "Released: 1994\n",
      "\n",
      "ID: BeonFJEBDPh1LlhdYRNe\n",
      "Score: 26.167364\n",
      "Title: The Silence of the Lambs\n",
      "Runtime: 118\n",
      "Plot: A young F.B.I. cadet must receive the help of an incarcerated and manipulative cannibal killer to help catch another serial killer, a madman who skins his victims.\n",
      "Key Scene: Hannibal Lecter explains to Clarice Starling that he ate a census taker's liver with some fava beans and a nice Chianti.\n",
      "Genre: Crime, Drama, Thriller\n",
      "Released: 1991\n",
      "\n",
      "ID: BOonFJEBDPh1LlhdYRNe\n",
      "Score: 21.956827\n",
      "Title: Se7en\n",
      "Runtime: 127\n",
      "Plot: Two detectives, a rookie and a veteran, hunt a serial killer who uses the seven deadly sins as his motives.\n",
      "Key Scene: Brad Pitt's character David Mills shoots John Doe after he reveals that he murdered Mills' wife.\n",
      "Genre: Crime, Drama, Mystery, Thriller\n",
      "Released: 1995\n",
      "\n",
      "ID: COonFJEBDPh1LlhdYRNe\n",
      "Score: 21.464703\n",
      "Title: The Usual Suspects\n",
      "Runtime: 106\n",
      "Plot: A sole survivor tells of the twisty events leading up to a horrific gun battle on a boat, which began when five criminals met at a seemingly random police lineup.\n",
      "Key Scene: Kevin Spacey's character Verbal Kint is revealed to be the mastermind behind the crime, when his limp disappears as he walks away from the police station.\n",
      "Genre: Crime, Mystery, Thriller\n",
      "Released: 1995\n",
      "\n",
      "ID: _uonFJEBDPh1LlhdYRJe\n",
      "Score: 12.967991\n",
      "Title: The Dark Knight\n",
      "Runtime: 152\n",
      "Plot: When the menace known as the Joker wreaks havoc and chaos on the people of Gotham, Batman must accept one of the greatest psychological and physical tests of his ability to fight injustice.\n",
      "Key Scene: Batman angrily responds 'I’m Batman' when asked who he is by Falcone.\n",
      "Genre: Action, Crime, Drama, Thriller\n",
      "Released: 2008\n"
     ]
    }
   ],
   "source": [
    "response = client.search(\n",
    "    index=\"semantic-text-movies\",\n",
    "    query={\n",
    "        \"bool\": {\n",
    "            \"must\": {\n",
    "                \"multi_match\": {\n",
    "                    \"fields\": [\"plot\", \"genre\"],\n",
    "                    \"query\": \"organized crime movies\",\n",
    "                    \"boost\": 1.5,\n",
    "                }\n",
    "            },\n",
    "            \"should\": {\n",
    "                \"semantic\": {\n",
    "                    \"field\": \"plot_semantic\",\n",
    "                    \"query\": \"organized crime movies\",\n",
    "                    \"boost\": 3.0,\n",
    "                }\n",
    "            },\n",
    "        }\n",
    "    },\n",
    ")\n",
    "\n",
    "pretty_search_response(response)"
   ]
  },
  {
   "cell_type": "markdown",
   "id": "d50d10ced4389107",
   "metadata": {
    "collapsed": false
   },
   "source": [
    "These results demonstrate that the application of lexical search techniques can help focus the results, while retaining many of the advantages of semantic search.\n",
    "In this example, the top search results are all still movies involving organized crime, but the `multi_match` query keeps the long tail shorter and focused on movies in the crime genre.\n",
    "\n",
    "Note the `boost` parameters applied to the `multi_match` and `semantic` queries.\n",
    "Combining lexical and semantic search techniques in a boolean query like this is called \"linear combination\" and when doing this, it is important to normalize the scores of the component queries.\n",
    "This involves consideration of a few factors, including:\n",
    "\n",
    "- The range of scores generated by the query\n",
    "- The relative importance and accuracy of the query in the context of the dataset\n",
    "\n",
    "In this example, the `multi_match` query is mostly used as a filter to constrain the search results' long tail, so we assign it a lower boost than the `semantic` query."
   ]
  },
  {
   "cell_type": "markdown",
   "id": "78be304240d6c695",
   "metadata": {
    "collapsed": false
   },
   "source": [
    "## Conclusion\n",
    "\n",
    "The [semantic_text](https://www.elastic.co/guide/en/elasticsearch/reference/master/semantic-text.html) field type is a powerful tool that can help you quickly and easily integrate semantic search.\n",
    "It can greatly improve the relevancy of your search results, particularly when combined with lexical search techniques."
   ]
  }
 ],
 "metadata": {
  "kernelspec": {
   "display_name": "Python 3",
   "language": "python",
   "name": "python3"
  },
  "language_info": {
   "codemirror_mode": {
    "name": "ipython",
    "version": 3
   },
   "file_extension": ".py",
   "mimetype": "text/x-python",
   "name": "python",
   "nbconvert_exporter": "python",
   "pygments_lexer": "ipython3",
   "version": "3.11.7"
  }
 },
 "nbformat": 4,
 "nbformat_minor": 5
}
